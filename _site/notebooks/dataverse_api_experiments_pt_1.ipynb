{
 "cells": [
  {
   "cell_type": "markdown",
   "id": "ec134828",
   "metadata": {},
   "source": [
    "# Dataverse API Experiments - Part 1\n",
    "\n",
    "An Interactive Notebook by Tiffany Chan (University of Victoria Libraries)\n",
    "tjychan@uvic.ca"
   ]
  },
  {
   "cell_type": "markdown",
   "id": "d7bce0b4",
   "metadata": {},
   "source": [
    "## Searching Scholars Portal (Search API)\n",
    "\n",
    "We'll use the [search API](https://guides.dataverse.org/en/latest/api/search.html) to explore Scholars Portal with a simple search. Note that we're passing two parameters for our search:\n",
    "\n",
    "1. **q**: this is the keyword we're searching. In our example, this is \"trees.\"\n",
    "2. **per_page**: the maximum number of results we want to return. If this is blank, Dataverse defaults to 10. In our example, this is 5. (Note: this is an integer and not a string).\n",
    "\n",
    "The parameters are declared in a dictionary: \"a list of key-value pairs within braces\" (from the [Python documentation])(https://docs.python.org/3/library/stdtypes.html#dict). For example, the first pair consists of a key ('q') and a value of 'trees'."
   ]
  },
  {
   "cell_type": "code",
   "execution_count": null,
   "id": "09ece43a",
   "metadata": {},
   "outputs": [],
   "source": [
    "search_params = {\n",
    "    'q': 'trees',\n",
    "    'per_page': 5 \n",
    "}"
   ]
  },
  {
   "cell_type": "markdown",
   "id": "0aed5f5b",
   "metadata": {},
   "source": [
    "Now we execute the search using Python's requests library."
   ]
  },
  {
   "cell_type": "code",
   "execution_count": null,
   "id": "7d967956",
   "metadata": {},
   "outputs": [],
   "source": [
    "import requests\n",
    "import json\n",
    "\n",
    "search_url = 'https://dataverse.scholarsportal.info/api/search'\n",
    "\n",
    "# Get the first 5 results for a keyword search for \"trees\"\n",
    "resp = requests.get(search_url, params=search_params)\n",
    "\n",
    "# Print the search results with indents so it looks neater\n",
    "results = resp.json()['data']['items']\n",
    "print(json.dumps(results, indent=4))"
   ]
  },
  {
   "cell_type": "markdown",
   "id": "2297d90b",
   "metadata": {},
   "source": [
    "\n",
    "You can see the same results in your browser at https://dataverse.scholarsportal.info/api/search?q=trees&per_page=5. Python simply gives us a way to chain together (\"concatenate\") different parameters together into a search string that Dataverse understands, then store the response so we can do things with it later.\n",
    "\n",
    "If you're using Chrome, you can download the [JSON Formatter extension](https://chrome.google.com/webstore/detail/json-formatter/bcjindcccaagfpapjjmafapmmgkkhgoa/related?hl=en) to see a prettier version of the json response."
   ]
  },
  {
   "cell_type": "markdown",
   "id": "2851250b",
   "metadata": {},
   "source": [
    "### Try it Yourself\n",
    "\n",
    "There are many other search parameters we can use. The full list is available on the [Search API](https://guides.dataverse.org/en/latest/api/search.html) page. To test your understanding, here is a list of searches that you can execute with Python.\n",
    "\n",
    "Using the search API as a reference, try editing the parameters in the code block below and then rerunning it to see the results. The first is done for you as an example.\n",
    "\n",
    "1. Datasets with the keyword \"climate\" and a subject of Arts and Humanities, sorted alphabetically by title.\n",
    "2. Results with a keyword term of Cheese Factories by Army Survey Establishment (author). (**Hint**: Adding `'show_facets': 'true'` to a request will help you see what filters (`fq`) are possible.)\n",
    "3. All tabular data files (\\*.tab) uploaded between 2020 and 2022 to the [UVic Research Data Collection](https://dataverse.scholarsportal.info/dataverse/uvic-research), sorted reverse chronologically (i.e. most recent first). (**Hint**: You'll need the `subtree` parameter.)"
   ]
  },
  {
   "cell_type": "code",
   "execution_count": null,
   "id": "54b9de3c",
   "metadata": {},
   "outputs": [],
   "source": [
    "search_params = {\n",
    "    'q': 'climate',\n",
    "    'type': 'dataset',\n",
    "    'sort': 'name',\n",
    "    'order': 'asc',\n",
    "    'fq': 'subject_ss:\"Arts and Humanities\"' # Note the double quotes around \"Arts and Humanities\"\n",
    "}\n",
    "\n",
    "resp = requests.get(search_url, params=search_params)\n",
    "print(resp.url)\n",
    "results = resp.json()['data']['items']\n",
    "print(json.dumps(results, indent=2))"
   ]
  },
  {
   "cell_type": "markdown",
   "id": "c8f78e8e",
   "metadata": {},
   "source": [
    "## Working with Download Statistics (Metrics API)\n",
    "\n",
    "Let's generate a graph of the top 5 most downloaded datasets in the University of Victoria (UVic) Dataverse, using Dataverse's documentation on [the Metrics API](https://guides.dataverse.org/en/latest/api/metrics.html) for reference.\n",
    "\n",
    "According to the docs, we can use the url [/api/info/metrics/uniquedownloads](https://dataverse.scholarsportal.info/api/info/metrics/uniquedownloads) to get the number of unique downloads:\n",
    "\n",
    ">The use case for this metric (uniquedownloads) is to more fairly assess which datasets are getting downloaded/used by only counting each users who downloads any file from a dataset as one count (versus downloads of multiple files or repeat downloads counting as multiple counts which adds a bias for large datasets and/or use patterns where a file is accessed repeatedly for new analyses)\n",
    "\n",
    "Scholars Portal seems to work a bit differently than described in the Dataverse documentation. For example, the unique downloads are only available as a CSV attachment/file (i.e. not JSON). The [/api/info/metrics/filedownloads](https://dataverse.scholarsportal.info/api/info/metrics/filedownloads) URL returns an empty string so we can't use that either.\n",
    "\n",
    "Here is the pseudocode (a plain-language recipe or list of steps) for the code that will generate the graph:\n",
    "1. **Download the CSV with download statistics.** The CSV two columns: 1 with the dataset's persistent identifier (PID), 1 with the number of downloads (expressed as an integer or whole number).\n",
    "2. **Use the PID to get the title of the dataset (by making a request to the API).**\n",
    "3. **Generate a simple bar graph with this information.**"
   ]
  },
  {
   "cell_type": "code",
   "execution_count": null,
   "id": "c345d919",
   "metadata": {},
   "outputs": [],
   "source": [
    "# Get and print the CSV from the Metrics API\n",
    "dataverse_alias = 'uvic'\n",
    "text_response = requests.get(f'https://dataverse.scholarsportal.info/api/info/metrics/uniquedownloads?parentAlias={dataverse_alias}').text\n",
    "print(text_response)"
   ]
  },
  {
   "cell_type": "markdown",
   "id": "e232659e",
   "metadata": {},
   "source": [
    "The above script will work with any dataverse. To try it with a different dataverse, go to that dataverse's page and edit the `dataverse_alias` to be whatever follows dataverse/ in the URL. For example, to use the Queen's University Dataverse (https://dataverse.scholarsportal.info/dataverse/queens), edit the `dataverse_alias = 'uvic'` to be `dataverse_alias = 'queens'` instead.\n",
    "\n",
    "This also works for nested dataverses, e.g. [Ocean Networks Canada](https://dataverse.scholarsportal.info/dataverse/oceannetworkscanada) (`oceannetworkscanada`), which is within the UVic Dataverse."
   ]
  },
  {
   "cell_type": "markdown",
   "id": "0c294eb2",
   "metadata": {},
   "source": [
    "### Advanced: Chaining API calls together\n",
    "\n",
    "It would be nice to know the titles of the most downloaded datasets as well as the DOIs. Looking at [the documentation](https://guides.dataverse.org/en/latest/api/native-api.html) (\"Get JSON Representation of a Dataset\"), we can make a second API call to Dataverse to get the title of a dataset, given that we know its DOI or PID."
   ]
  },
  {
   "cell_type": "code",
   "execution_count": null,
   "id": "557ca382",
   "metadata": {
    "scrolled": true
   },
   "outputs": [],
   "source": [
    "import csv\n",
    "# Parse the CSV from above into a dictionary\n",
    "rows = list(csv.DictReader(text_response.splitlines(), delimiter=','))\n",
    "headers = ['DOI', '# of downloads','title']\n",
    "print('{:<22}  {:<5}  {:<20}'.format(*headers))\n",
    "# Print the first 10 results with their titles\n",
    "for row in rows[0:10]:\n",
    "    pid = row['pid']\n",
    "    # Make a request to find the title\n",
    "    # See \"Get JSON Representation of a Dataset\" below)\n",
    "    # https://guides.dataverse.org/en/latest/api/native-api.html\n",
    "    params = {\"persistentId\": f'{pid}' }\n",
    "    resp = requests.get('https://dataverse.scholarsportal.info/api/datasets/:persistentId/', params).json()\n",
    "    title = resp['data']['latestVersion']['metadataBlocks']['citation']['fields'][0]['value']\n",
    "    # Shorten titles if they are 10 words or longer\n",
    "    if len(title.split(' ')) > 9:\n",
    "        row['title'] = ' '.join(title.split(' ')[0:9] + ['...'])\n",
    "    else:\n",
    "        row['title'] = title\n",
    "    print('{:<28}  {:<8}  {:<15}'.format(*row.values()))"
   ]
  },
  {
   "cell_type": "markdown",
   "id": "0c311898",
   "metadata": {},
   "source": [
    "Note that these results are current as of the time you call the API. So you might get a different result if you run the same script tomorrow!"
   ]
  }
 ],
 "metadata": {
  "kernelspec": {
   "display_name": "Python 3 (ipykernel)",
   "language": "python",
   "name": "python3"
  },
  "language_info": {
   "codemirror_mode": {
    "name": "ipython",
    "version": 3
   },
   "file_extension": ".py",
   "mimetype": "text/x-python",
   "name": "python",
   "nbconvert_exporter": "python",
   "pygments_lexer": "ipython3",
   "version": "3.9.7"
  }
 },
 "nbformat": 4,
 "nbformat_minor": 5
}
